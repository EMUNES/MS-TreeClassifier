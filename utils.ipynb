{
 "metadata": {
  "language_info": {
   "codemirror_mode": {
    "name": "ipython",
    "version": 3
   },
   "file_extension": ".py",
   "mimetype": "text/x-python",
   "name": "python",
   "nbconvert_exporter": "python",
   "pygments_lexer": "ipython3",
   "version": "3.8.5-final"
  },
  "orig_nbformat": 2,
  "kernelspec": {
   "name": "Python 3.8.5 64-bit ('tlc': conda)",
   "display_name": "Python 3.8.5 64-bit ('tlc': conda)",
   "metadata": {
    "interpreter": {
     "hash": "7c33d18c879b8c16ea1940d8472bc6cf82c89fa81050fa6bd15d10c212b5b695"
    }
   }
  }
 },
 "nbformat": 4,
 "nbformat_minor": 2,
 "cells": [
  {
   "source": [
    "# Util code snippets\n",
    "\n",
    "neccessary code snippets to help with the tree classifier"
   ],
   "cell_type": "markdown",
   "metadata": {}
  },
  {
   "source": [
    "# run this cell before running any other function cells\n",
    "import numpy as np\n",
    "import pandas as pd\n",
    "import matplotlib.pyplot as plt\n",
    "%matplotlib inline\n",
    "\n",
    "import cv2"
   ],
   "cell_type": "code",
   "metadata": {},
   "execution_count": 1,
   "outputs": []
  },
  {
   "source": [
    "## image resize\n",
    "Resize image to ideal size like 224x224, 384x384 ...etc\n",
    "\n",
    "*Each picture should be named by their parent folder.* "
   ],
   "cell_type": "markdown",
   "metadata": {}
  },
  {
   "cell_type": "code",
   "execution_count": 2,
   "metadata": {},
   "outputs": [],
   "source": [
    "image_size = 224 # change this line to alter image size\n",
    "\n",
    "targ_folder_name = 'mahogany' # target folder name, also the kind of the tree of those images\n",
    "dest_folder_name = 'mahogany' # destination folder name, also the kind of the tree of those images"
   ]
  },
  {
   "cell_type": "code",
   "execution_count": 3,
   "metadata": {},
   "outputs": [],
   "source": [
    "targ_path = f'./src/{targ_folder_name}/' # the path of the original images under src folder\n",
    "dest_path = f'./data/train/{dest_folder_name}/'  # the path of destination path under data folder"
   ]
  },
  {
   "cell_type": "code",
   "execution_count": 4,
   "metadata": {},
   "outputs": [],
   "source": [
    "if not os.path.exists(dest_path): os.mkdir(dest_path)"
   ]
  },
  {
   "cell_type": "code",
   "execution_count": 5,
   "metadata": {},
   "outputs": [],
   "source": [
    "def _resize_image_from_path(image_path, dim):\n",
    "    image = cv2.imread(image_path)\n",
    "    #image = cv2.cvtColor(image, cv2.COLOR_BGR2RGB)\n",
    "    image = cv2.resize(image, (dim, dim), interpolation=cv2.INTER_AREA)\n",
    "    return image"
   ]
  },
  {
   "cell_type": "code",
   "execution_count": 6,
   "metadata": {},
   "outputs": [],
   "source": [
    "def resize_and_store_images(dest_path, targ_path, img_size):\n",
    "\n",
    "    for image_name in os.listdir(targ_path):\n",
    "        try:\n",
    "            image = _resize_image_from_path(targ_path+image_name, image_size)\n",
    "            print(f\"Writing resized image to: {dest_path+image_name}\")\n",
    "            cv2.imwrite(dest_path+image_name, image)\n",
    "        except:\n",
    "            print(f'Invalid picture type that cv2 is unable to handle.\\n File name: {image_name}')\n",
    "            continue"
   ]
  },
  {
   "cell_type": "code",
   "execution_count": 7,
   "metadata": {
    "tags": []
   },
   "outputs": [
    {
     "output_type": "stream",
     "name": "stdout",
     "text": [
      "Writing resized image to: ./data/train/mahogany/1.jpg\n",
      "Writing resized image to: ./data/train/mahogany/10.jpg\n",
      "Writing resized image to: ./data/train/mahogany/100_0095.jpg\n",
      "Writing resized image to: ./data/train/mahogany/11.jpg\n",
      "Writing resized image to: ./data/train/mahogany/136627269-young-mahogany-leaves-on-the-tree.jpg\n",
      "Writing resized image to: ./data/train/mahogany/141058052-young-mahogany-leaves-on-the-tree.jpg\n",
      "Writing resized image to: ./data/train/mahogany/141212627-green-mahogany-leaves-in-the-nature-background.jpg\n",
      "Writing resized image to: ./data/train/mahogany/18a532911ab21aebb3335d682e5e5d47.jpg\n",
      "Writing resized image to: ./data/train/mahogany/1f725afad7404f429289a2980b98d478.jpg\n",
      "Writing resized image to: ./data/train/mahogany/28152289349_b432438929_b.jpg\n",
      "Writing resized image to: ./data/train/mahogany/342419923.jpg\n",
      "Writing resized image to: ./data/train/mahogany/353406218.jpg\n",
      "Writing resized image to: ./data/train/mahogany/4337509752_b7394b025b_b.jpg\n",
      "Writing resized image to: ./data/train/mahogany/44A.jpg\n",
      "Writing resized image to: ./data/train/mahogany/56946453-countryside-road-with-leaves-on-the-ground-in-spring-in-taiwan-the-tree-called-honduras-mahogany-tre.jpg\n",
      "Writing resized image to: ./data/train/mahogany/5ca03e2f0493a0108ab02b835d47c441.jpg\n",
      "Writing resized image to: ./data/train/mahogany/6a622e.jpg\n",
      "Writing resized image to: ./data/train/mahogany/777px-Leaves2C_flowers2C_fruit_and_seed_pods_of_Mahogany_tree2C_1731_Wellcome_L0035348.jpg\n",
      "Writing resized image to: ./data/train/mahogany/7a0b81381d18022255f4687caa0a9b84.jpg\n",
      "Writing resized image to: ./data/train/mahogany/81lQjTUnx1L._SL1500_.jpg\n",
      "Writing resized image to: ./data/train/mahogany/ADGmqu-ExQwmeBIns3aWTUnrfzadPgsLv3a1ERrtS8Sxs64-c-mo.jpg\n",
      "Writing resized image to: ./data/train/mahogany/African-Mahogany-1576.jpeg\n",
      "Writing resized image to: ./data/train/mahogany/African20Mahogany20Tree20-20Leaf20Tender203.jpg\n",
      "Writing resized image to: ./data/train/mahogany/African20Mahogany_1.jpg\n",
      "Writing resized image to: ./data/train/mahogany/AfricanMahoganyTree-Leaf.jpg\n",
      "Writing resized image to: ./data/train/mahogany/Alberelli-di-Caoba.jpg\n",
      "Writing resized image to: ./data/train/mahogany/b80df6bcc6b46ecb3f208e0e978861d78b2d50f6_960px.jpg\n",
      "Writing resized image to: ./data/train/mahogany/BEL-1yo-Mahogany-seedling-560x420.jpg\n",
      "Writing resized image to: ./data/train/mahogany/Big-Leaf-Mahogany..jpeg\n",
      "Writing resized image to: ./data/train/mahogany/Big-leaved_Mahogany.jpg\n",
      "Writing resized image to: ./data/train/mahogany/Big20Leaf20Mahogany20Tree20-20Flower20Bunch.jpg\n",
      "Writing resized image to: ./data/train/mahogany/branches-foliage-with-leaves-of-the-mahogany-tree-everglades-national-A38P2X.jpg\n",
      "Writing resized image to: ./data/train/mahogany/bright-green-leaves-tree-mahoni-mahogany-indonesian-name-tree-plant-spesies-switenia-macrophylia-image-mahogany-tree-165321669.jpg\n",
      "Writing resized image to: ./data/train/mahogany/brown-mahogany-leaves-tree-fruit-163085714.jpg\n",
      "Writing resized image to: ./data/train/mahogany/C20ledifolius_aJPG.jpg\n",
      "Writing resized image to: ./data/train/mahogany/canopy-of-mahogany-tree-with-colorful-autumn-leaves-viewed-from-ground-M3A4XK.jpg\n",
      "Writing resized image to: ./data/train/mahogany/Cercocarpus-ledifolius-Curl-leaf-Mountain-Mahogany-BLOOMJPG.jpg\n",
      "Writing resized image to: ./data/train/mahogany/chinese-mahogany-toona-sinensis_2-600x600.jpg\n",
      "Writing resized image to: ./data/train/mahogany/cuban-mahogany-grove.jpg\n",
      "Writing resized image to: ./data/train/mahogany/Curl-leaf-mountain-mahogany-Oregon.jpg\n",
      "Writing resized image to: ./data/train/mahogany/depositphotos_328759342-stock-photo-young-mahogany-leaves-tree.jpg\n",
      "Writing resized image to: ./data/train/mahogany/depositphotos_328760008-stock-photo-young-mahogany-leaves-tree.jpg\n",
      "Writing resized image to: ./data/train/mahogany/Dlium2BSmall-leaved2Bmahogany2B2528Swietenia2Bmahagoni2529.jpg\n",
      "Writing resized image to: ./data/train/mahogany/Eutetranychus-banksi-on-mahogany-leaves-A-Yellowing-and-leaf-bronzing-caused-by-the.png\n",
      "Writing resized image to: ./data/train/mahogany/f462a44104d3166f_9985-w500-h375-b0-p0--.jpg\n",
      "Writing resized image to: ./data/train/mahogany/Fruit_with_leaves_at_Branch_Canopy_I_IMG_8673.jpg\n",
      "Writing resized image to: ./data/train/mahogany/gallery_Mahogany_leaf_detail_712b422f-2426-46e0-8206-29de33477709.jpg\n",
      "Writing resized image to: ./data/train/mahogany/gardening-trees-mahogany-2.jpg\n",
      "Writing resized image to: ./data/train/mahogany/gardening-trees-mahogany-4.jpg\n",
      "Writing resized image to: ./data/train/mahogany/green-mahogany-american-cuban-smallleaved-260nw-1660124125.jpg\n",
      "Writing resized image to: ./data/train/mahogany/h-Tree-05-09.jpg\n",
      "Writing resized image to: ./data/train/mahogany/hqdefault.jpg\n",
      "Writing resized image to: ./data/train/mahogany/image.jpeg\n",
      "Writing resized image to: ./data/train/mahogany/image.png\n",
      "Writing resized image to: ./data/train/mahogany/image0.jpeg\n",
      "Writing resized image to: ./data/train/mahogany/image0.png\n",
      "Writing resized image to: ./data/train/mahogany/image1.jpeg\n",
      "Writing resized image to: ./data/train/mahogany/image1.png\n",
      "Writing resized image to: ./data/train/mahogany/image10.jpeg\n",
      "Writing resized image to: ./data/train/mahogany/image10.png\n",
      "Writing resized image to: ./data/train/mahogany/image11.jpeg\n",
      "Writing resized image to: ./data/train/mahogany/image11.png\n",
      "Writing resized image to: ./data/train/mahogany/image12.jpeg\n",
      "Writing resized image to: ./data/train/mahogany/image12.png\n",
      "Writing resized image to: ./data/train/mahogany/image13.jpeg\n",
      "Writing resized image to: ./data/train/mahogany/image13.png\n",
      "Writing resized image to: ./data/train/mahogany/image14.jpeg\n",
      "Writing resized image to: ./data/train/mahogany/image15.jpeg\n",
      "Writing resized image to: ./data/train/mahogany/image16.jpeg\n",
      "Writing resized image to: ./data/train/mahogany/image17.jpeg\n",
      "Writing resized image to: ./data/train/mahogany/image18.jpeg\n",
      "Writing resized image to: ./data/train/mahogany/image19.jpeg\n",
      "Writing resized image to: ./data/train/mahogany/image2.jpeg\n",
      "Writing resized image to: ./data/train/mahogany/image2.png\n",
      "Writing resized image to: ./data/train/mahogany/image20.jpeg\n",
      "Writing resized image to: ./data/train/mahogany/image21.jpeg\n",
      "Writing resized image to: ./data/train/mahogany/image22.jpeg\n",
      "Writing resized image to: ./data/train/mahogany/image23.jpeg\n",
      "Writing resized image to: ./data/train/mahogany/image24.jpeg\n",
      "Writing resized image to: ./data/train/mahogany/image3.jpeg\n",
      "Writing resized image to: ./data/train/mahogany/image3.png\n",
      "Writing resized image to: ./data/train/mahogany/image4.jpeg\n",
      "Writing resized image to: ./data/train/mahogany/image4.png\n",
      "Writing resized image to: ./data/train/mahogany/image5.jpeg\n",
      "Writing resized image to: ./data/train/mahogany/image5.png\n",
      "Writing resized image to: ./data/train/mahogany/image6.jpeg\n",
      "Writing resized image to: ./data/train/mahogany/image6.png\n",
      "Writing resized image to: ./data/train/mahogany/image7.jpeg\n",
      "Writing resized image to: ./data/train/mahogany/image7.png\n",
      "Writing resized image to: ./data/train/mahogany/image8.jpeg\n",
      "Writing resized image to: ./data/train/mahogany/image8.png\n",
      "Writing resized image to: ./data/train/mahogany/image9.jpeg\n",
      "Writing resized image to: ./data/train/mahogany/image9.png\n",
      "Writing resized image to: ./data/train/mahogany/images.jpg\n",
      "Writing resized image to: ./data/train/mahogany/images0.jpg\n",
      "Writing resized image to: ./data/train/mahogany/images1.jpg\n",
      "Writing resized image to: ./data/train/mahogany/images10.jpg\n",
      "Writing resized image to: ./data/train/mahogany/images11.jpg\n",
      "Writing resized image to: ./data/train/mahogany/images12.jpg\n",
      "Writing resized image to: ./data/train/mahogany/images13.jpg\n",
      "Writing resized image to: ./data/train/mahogany/images14.jpg\n",
      "Writing resized image to: ./data/train/mahogany/images2.jpg\n",
      "Writing resized image to: ./data/train/mahogany/images3.jpg\n",
      "Writing resized image to: ./data/train/mahogany/images4.jpg\n",
      "Writing resized image to: ./data/train/mahogany/images5.jpg\n",
      "Writing resized image to: ./data/train/mahogany/images6.jpg\n",
      "Writing resized image to: ./data/train/mahogany/images7.jpg\n",
      "Writing resized image to: ./data/train/mahogany/images8.jpg\n",
      "Writing resized image to: ./data/train/mahogany/images9.jpg\n",
      "Writing resized image to: ./data/train/mahogany/images_43-500x500.jpg\n",
      "Writing resized image to: ./data/train/mahogany/leaves-and-fruit.jpg\n",
      "Writing resized image to: ./data/train/mahogany/leaves.jpg\n",
      "Writing resized image to: ./data/train/mahogany/mahoganhy-tree.jpg\n",
      "Writing resized image to: ./data/train/mahogany/mahogany-header.jpg\n",
      "Invalid picture type that cv2 is unable to handle.\n",
      " File name: Mahogany-leaves_28560689348329.gif\n",
      "Invalid picture type that cv2 is unable to handle.\n",
      " File name: Mahogany-leaves_28560689410529.gif\n",
      "Writing resized image to: ./data/train/mahogany/mahogany-NGP-feat.jpg\n",
      "Writing resized image to: ./data/train/mahogany/mahogany-plans1.png\n",
      "Writing resized image to: ./data/train/mahogany/mahogany-plants.jpg\n",
      "Writing resized image to: ./data/train/mahogany/mahogany-swietenia-macrophylla-tree-with-leaves-AWX1MF.jpg\n",
      "Writing resized image to: ./data/train/mahogany/mahogany-swietenia-macrophylla-tree-with-leaves-XCHCP5.jpg\n",
      "Writing resized image to: ./data/train/mahogany/Mahogany-Tree-2.jpg\n",
      "Writing resized image to: ./data/train/mahogany/mahogany-tree-500.jpg\n",
      "Writing resized image to: ./data/train/mahogany/mahogany-tree-indonesian-people-call-mahoni-bright-green-leaves-tree-mahoni-mahogany-indonesian-name-tree-plant-165321647.jpg\n",
      "Writing resized image to: ./data/train/mahogany/mahogany-tree-south-afrika-south-africa-big-old-high-green-leaves-B6AMET.jpg\n",
      "Writing resized image to: ./data/train/mahogany/mahogany-trees.jpg\n",
      "Writing resized image to: ./data/train/mahogany/mahogany.jpg\n",
      "Writing resized image to: ./data/train/mahogany/mahoganytree.jpeg\n",
      "Writing resized image to: ./data/train/mahogany/mahogany_leaf.jpg\n",
      "Writing resized image to: ./data/train/mahogany/mahog_leaf.jpg\n",
      "Writing resized image to: ./data/train/mahogany/Malformation-symptoms-on-big-leaf-mahogany-trees-A-Big-leaf-mahogany-trees-with_Q320.jpg\n",
      "Writing resized image to: ./data/train/mahogany/maxresdefault.jpg\n",
      "Writing resized image to: ./data/train/mahogany/maxresdefault0.jpg\n",
      "Writing resized image to: ./data/train/mahogany/overall-tree.jpg\n",
      "Invalid picture type that cv2 is unable to handle.\n",
      " File name: pdis-01-18-0060-re_f4.gif\n",
      "Writing resized image to: ./data/train/mahogany/photo_camera_grey600_24dp.png\n",
      "Writing resized image to: ./data/train/mahogany/png-clipart-india-swietenia-macrophylla-swietenia-mahagoni-mahogany-tree-trees-leaf-branch-thumbnail.png\n",
      "Writing resized image to: ./data/train/mahogany/pohon-mahoni.jpg\n",
      "Writing resized image to: ./data/train/mahogany/smacrophylla02L.png\n",
      "Writing resized image to: ./data/train/mahogany/Swietenia_macrophylla_leavesJPG.jpg\n",
      "Writing resized image to: ./data/train/mahogany/Swietenia_mahagoni_10JPG.jpg\n",
      "Writing resized image to: ./data/train/mahogany/Swietenia_mahagoni_28West_Indian_mahogany_tree29_1_282815094519929.jpg\n",
      "Writing resized image to: ./data/train/mahogany/swimac3.jpg\n",
      "Writing resized image to: ./data/train/mahogany/the-brown-mahogany-with-leaves-on-the-stock-photo_csp75437124.jpg\n",
      "Writing resized image to: ./data/train/mahogany/thumb-khaya-senegalensis-african-mahogany-52f463e39ae7b.jpg\n",
      "Writing resized image to: ./data/train/mahogany/toona_ciliata-leaf.jpg\n",
      "Writing resized image to: ./data/train/mahogany/trees-for-life-mapping-mahogany.jpg\n",
      "Writing resized image to: ./data/train/mahogany/Tree_in_new_leaves_I_IMG_6222.jpg\n",
      "Writing resized image to: ./data/train/mahogany/Trichilia20dregeana20flws20leaves20GEOFF20NICHOLS.jpg\n",
      "Writing resized image to: ./data/train/mahogany/TrichiliaEmetica_NatalMahogany_1024x1024.jpg\n",
      "Writing resized image to: ./data/train/mahogany/tw39klmdb5.jpg\n",
      "Writing resized image to: ./data/train/mahogany/view-mahoganytek02.jpg\n"
     ]
    }
   ],
   "source": [
    "resize_and_store_images(dest_path=dest_path, targ_path=targ_path, img_size=image_size)"
   ]
  }
 ]
}