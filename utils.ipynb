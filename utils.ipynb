{
 "metadata": {
  "language_info": {
   "codemirror_mode": {
    "name": "ipython",
    "version": 3
   },
   "file_extension": ".py",
   "mimetype": "text/x-python",
   "name": "python",
   "nbconvert_exporter": "python",
   "pygments_lexer": "ipython3",
   "version": "3.8.5-final"
  },
  "orig_nbformat": 2,
  "kernelspec": {
   "name": "Python 3.8.5 64-bit ('tlc': conda)",
   "display_name": "Python 3.8.5 64-bit ('tlc': conda)",
   "metadata": {
    "interpreter": {
     "hash": "7c33d18c879b8c16ea1940d8472bc6cf82c89fa81050fa6bd15d10c212b5b695"
    }
   }
  }
 },
 "nbformat": 4,
 "nbformat_minor": 2,
 "cells": [
  {
   "source": [
    "# Util code snippets\n",
    "\n",
    "neccessary code snippets to help with the tree classifier"
   ],
   "cell_type": "markdown",
   "metadata": {}
  },
  {
   "source": [
    "# run this cell before running any other function cells\n",
    "import numpy as np\n",
    "import pandas as pd\n",
    "import matplotlib.pyplot as plt\n",
    "%matplotlib inline\n",
    "\n",
    "import cv2"
   ],
   "cell_type": "code",
   "metadata": {},
   "execution_count": 1,
   "outputs": []
  },
  {
   "source": [
    "## image resize\n",
    "Resize image to ideal size like 224x224, 384x384 ...etc\n",
    "\n",
    "*Each picture should be named by their parent folder.* "
   ],
   "cell_type": "markdown",
   "metadata": {}
  },
  {
   "cell_type": "code",
   "execution_count": 2,
   "metadata": {},
   "outputs": [],
   "source": [
    "image_size = 224 # change this line to alter image size\n",
    "\n",
    "targ_folder_name = 'sugar maple leaf' # target folder name, also the kind of the tree of those images\n",
    "dest_folder_name = 'sugar maple leaf' # destination folder name, also the kind of the tree of those images"
   ]
  },
  {
   "cell_type": "code",
   "execution_count": 3,
   "metadata": {},
   "outputs": [],
   "source": [
    "targ_path = f'./src/{targ_folder_name}/' # the path of the original images under src folder\n",
    "dest_path = f'./data/train/{dest_folder_name}/'  # the path of destination path under data folder"
   ]
  },
  {
   "cell_type": "code",
   "execution_count": 4,
   "metadata": {},
   "outputs": [],
   "source": [
    "if not os.path.exists(dest_path): os.mkdir(dest_path)"
   ]
  },
  {
   "cell_type": "code",
   "execution_count": 5,
   "metadata": {},
   "outputs": [],
   "source": [
    "def _resize_image_from_path(image_path, dim):\n",
    "    image = cv2.imread(image_path)\n",
    "    #image = cv2.cvtColor(image, cv2.COLOR_BGR2RGB)\n",
    "    image = cv2.resize(image, (dim, dim), interpolation=cv2.INTER_AREA)\n",
    "    return image"
   ]
  },
  {
   "cell_type": "code",
   "execution_count": 6,
   "metadata": {},
   "outputs": [],
   "source": [
    "def resize_and_store_images(dest_path, targ_path, img_size):\n",
    "\n",
    "    for image_name in os.listdir(targ_path):\n",
    "        try:\n",
    "            image = _resize_image_from_path(targ_path+image_name, image_size)\n",
    "            print(f\"Writing resized image to: {dest_path+image_name}\")\n",
    "            cv2.imwrite(dest_path+image_name, image)\n",
    "        except:\n",
    "            print(f'Invalid picture type that cv2 is unable to handle.\\n File name: {image_name}')\n",
    "            continue"
   ]
  },
  {
   "cell_type": "code",
   "execution_count": 7,
   "metadata": {
    "tags": [
     "outputPrepend"
    ]
   },
   "outputs": [
    {
     "output_type": "stream",
     "name": "stdout",
     "text": [
      "e: images251.jpg\nInvalid picture type that cv2 is unable to handle.\n File name: images252.jpg\nInvalid picture type that cv2 is unable to handle.\n File name: images253.jpg\nInvalid picture type that cv2 is unable to handle.\n File name: images254.jpg\nInvalid picture type that cv2 is unable to handle.\n File name: images255.jpg\nInvalid picture type that cv2 is unable to handle.\n File name: images256.jpg\nInvalid picture type that cv2 is unable to handle.\n File name: images257.jpg\nInvalid picture type that cv2 is unable to handle.\n File name: images258.jpg\nInvalid picture type that cv2 is unable to handle.\n File name: images259.jpg\nInvalid picture type that cv2 is unable to handle.\n File name: images26.jpg\nInvalid picture type that cv2 is unable to handle.\n File name: images260.jpg\nInvalid picture type that cv2 is unable to handle.\n File name: images261.jpg\nInvalid picture type that cv2 is unable to handle.\n File name: images262.jpg\nInvalid picture type that cv2 is unable to handle.\n File name: images263.jpg\nInvalid picture type that cv2 is unable to handle.\n File name: images264.jpg\nInvalid picture type that cv2 is unable to handle.\n File name: images265.jpg\nInvalid picture type that cv2 is unable to handle.\n File name: images266.jpg\nInvalid picture type that cv2 is unable to handle.\n File name: images267.jpg\nInvalid picture type that cv2 is unable to handle.\n File name: images268.jpg\nInvalid picture type that cv2 is unable to handle.\n File name: images269.jpg\nInvalid picture type that cv2 is unable to handle.\n File name: images27.jpg\nInvalid picture type that cv2 is unable to handle.\n File name: images270.jpg\nInvalid picture type that cv2 is unable to handle.\n File name: images271.jpg\nInvalid picture type that cv2 is unable to handle.\n File name: images272.jpg\nInvalid picture type that cv2 is unable to handle.\n File name: images273.jpg\nInvalid picture type that cv2 is unable to handle.\n File name: images274.jpg\nInvalid picture type that cv2 is unable to handle.\n File name: images275.jpg\nInvalid picture type that cv2 is unable to handle.\n File name: images276.jpg\nInvalid picture type that cv2 is unable to handle.\n File name: images277.jpg\nInvalid picture type that cv2 is unable to handle.\n File name: images278.jpg\nInvalid picture type that cv2 is unable to handle.\n File name: images279.jpg\nInvalid picture type that cv2 is unable to handle.\n File name: images28.jpg\nInvalid picture type that cv2 is unable to handle.\n File name: images280.jpg\nInvalid picture type that cv2 is unable to handle.\n File name: images281.jpg\nInvalid picture type that cv2 is unable to handle.\n File name: images282.jpg\nInvalid picture type that cv2 is unable to handle.\n File name: images283.jpg\nInvalid picture type that cv2 is unable to handle.\n File name: images284.jpg\nInvalid picture type that cv2 is unable to handle.\n File name: images285.jpg\nInvalid picture type that cv2 is unable to handle.\n File name: images286.jpg\nInvalid picture type that cv2 is unable to handle.\n File name: images287.jpg\nInvalid picture type that cv2 is unable to handle.\n File name: images288.jpg\nInvalid picture type that cv2 is unable to handle.\n File name: images289.jpg\nInvalid picture type that cv2 is unable to handle.\n File name: images29.jpg\nInvalid picture type that cv2 is unable to handle.\n File name: images290.jpg\nInvalid picture type that cv2 is unable to handle.\n File name: images291.jpg\nInvalid picture type that cv2 is unable to handle.\n File name: images292.jpg\nInvalid picture type that cv2 is unable to handle.\n File name: images293.jpg\nInvalid picture type that cv2 is unable to handle.\n File name: images294.jpg\nInvalid picture type that cv2 is unable to handle.\n File name: images295.jpg\nInvalid picture type that cv2 is unable to handle.\n File name: images296.jpg\nInvalid picture type that cv2 is unable to handle.\n File name: images297.jpg\nInvalid picture type that cv2 is unable to handle.\n File name: images298.jpg\nInvalid picture type that cv2 is unable to handle.\n File name: images299.jpg\nInvalid picture type that cv2 is unable to handle.\n File name: images3.jpg\nInvalid picture type that cv2 is unable to handle.\n File name: images30.jpg\nInvalid picture type that cv2 is unable to handle.\n File name: images300.jpg\nInvalid picture type that cv2 is unable to handle.\n File name: images301.jpg\nInvalid picture type that cv2 is unable to handle.\n File name: images302.jpg\nInvalid picture type that cv2 is unable to handle.\n File name: images303.jpg\nInvalid picture type that cv2 is unable to handle.\n File name: images304.jpg\nInvalid picture type that cv2 is unable to handle.\n File name: images305.jpg\nInvalid picture type that cv2 is unable to handle.\n File name: images306.jpg\nInvalid picture type that cv2 is unable to handle.\n File name: images307.jpg\nInvalid picture type that cv2 is unable to handle.\n File name: images308.jpg\nInvalid picture type that cv2 is unable to handle.\n File name: images309.jpg\nInvalid picture type that cv2 is unable to handle.\n File name: images31.jpg\nInvalid picture type that cv2 is unable to handle.\n File name: images310.jpg\nInvalid picture type that cv2 is unable to handle.\n File name: images311.jpg\nInvalid picture type that cv2 is unable to handle.\n File name: images312.jpg\nInvalid picture type that cv2 is unable to handle.\n File name: images313.jpg\nInvalid picture type that cv2 is unable to handle.\n File name: images314.jpg\nInvalid picture type that cv2 is unable to handle.\n File name: images315.jpg\nInvalid picture type that cv2 is unable to handle.\n File name: images316.jpg\nInvalid picture type that cv2 is unable to handle.\n File name: images317.jpg\nInvalid picture type that cv2 is unable to handle.\n File name: images318.jpg\nInvalid picture type that cv2 is unable to handle.\n File name: images319.jpg\nInvalid picture type that cv2 is unable to handle.\n File name: images32.jpg\nInvalid picture type that cv2 is unable to handle.\n File name: images320.jpg\nInvalid picture type that cv2 is unable to handle.\n File name: images321.jpg\nInvalid picture type that cv2 is unable to handle.\n File name: images322.jpg\nInvalid picture type that cv2 is unable to handle.\n File name: images323.jpg\nInvalid picture type that cv2 is unable to handle.\n File name: images324.jpg\nInvalid picture type that cv2 is unable to handle.\n File name: images325.jpg\nInvalid picture type that cv2 is unable to handle.\n File name: images326.jpg\nInvalid picture type that cv2 is unable to handle.\n File name: images327.jpg\nInvalid picture type that cv2 is unable to handle.\n File name: images328.jpg\nInvalid picture type that cv2 is unable to handle.\n File name: images329.jpg\nInvalid picture type that cv2 is unable to handle.\n File name: images33.jpg\nInvalid picture type that cv2 is unable to handle.\n File name: images330.jpg\nInvalid picture type that cv2 is unable to handle.\n File name: images331.jpg\nInvalid picture type that cv2 is unable to handle.\n File name: images332.jpg\nInvalid picture type that cv2 is unable to handle.\n File name: images333.jpg\nInvalid picture type that cv2 is unable to handle.\n File name: images334.jpg\nInvalid picture type that cv2 is unable to handle.\n File name: images335.jpg\nInvalid picture type that cv2 is unable to handle.\n File name: images336.jpg\nInvalid picture type that cv2 is unable to handle.\n File name: images337.jpg\nInvalid picture type that cv2 is unable to handle.\n File name: images338.jpg\nInvalid picture type that cv2 is unable to handle.\n File name: images339.jpg\nInvalid picture type that cv2 is unable to handle.\n File name: images34.jpg\nInvalid picture type that cv2 is unable to handle.\n File name: images340.jpg\nInvalid picture type that cv2 is unable to handle.\n File name: images341.jpg\nInvalid picture type that cv2 is unable to handle.\n File name: images342.jpg\nInvalid picture type that cv2 is unable to handle.\n File name: images343.jpg\nInvalid picture type that cv2 is unable to handle.\n File name: images344.jpg\nInvalid picture type that cv2 is unable to handle.\n File name: images345.jpg\nInvalid picture type that cv2 is unable to handle.\n File name: images346.jpg\nInvalid picture type that cv2 is unable to handle.\n File name: images347.jpg\nInvalid picture type that cv2 is unable to handle.\n File name: images348.jpg\nInvalid picture type that cv2 is unable to handle.\n File name: images349.jpg\nInvalid picture type that cv2 is unable to handle.\n File name: images35.jpg\nInvalid picture type that cv2 is unable to handle.\n File name: images350.jpg\nInvalid picture type that cv2 is unable to handle.\n File name: images351.jpg\nInvalid picture type that cv2 is unable to handle.\n File name: images352.jpg\nInvalid picture type that cv2 is unable to handle.\n File name: images353.jpg\nInvalid picture type that cv2 is unable to handle.\n File name: images354.jpg\nInvalid picture type that cv2 is unable to handle.\n File name: images355.jpg\nInvalid picture type that cv2 is unable to handle.\n File name: images356.jpg\nInvalid picture type that cv2 is unable to handle.\n File name: images357.jpg\nInvalid picture type that cv2 is unable to handle.\n File name: images358.jpg\nInvalid picture type that cv2 is unable to handle.\n File name: images359.jpg\nInvalid picture type that cv2 is unable to handle.\n File name: images36.jpg\nInvalid picture type that cv2 is unable to handle.\n File name: images360.jpg\nInvalid picture type that cv2 is unable to handle.\n File name: images361.jpg\nInvalid picture type that cv2 is unable to handle.\n File name: images362.jpg\nInvalid picture type that cv2 is unable to handle.\n File name: images363.jpg\nInvalid picture type that cv2 is unable to handle.\n File name: images364.jpg\nInvalid picture type that cv2 is unable to handle.\n File name: images365.jpg\nInvalid picture type that cv2 is unable to handle.\n File name: images366.jpg\nInvalid picture type that cv2 is unable to handle.\n File name: images367.jpg\nInvalid picture type that cv2 is unable to handle.\n File name: images37.jpg\nInvalid picture type that cv2 is unable to handle.\n File name: images38.jpg\nInvalid picture type that cv2 is unable to handle.\n File name: images39.jpg\nInvalid picture type that cv2 is unable to handle.\n File name: images4.jpg\nInvalid picture type that cv2 is unable to handle.\n File name: images40.jpg\nInvalid picture type that cv2 is unable to handle.\n File name: images41.jpg\nInvalid picture type that cv2 is unable to handle.\n File name: images42.jpg\nInvalid picture type that cv2 is unable to handle.\n File name: images43.jpg\nInvalid picture type that cv2 is unable to handle.\n File name: images44.jpg\nInvalid picture type that cv2 is unable to handle.\n File name: images45.jpg\nInvalid picture type that cv2 is unable to handle.\n File name: images46.jpg\nInvalid picture type that cv2 is unable to handle.\n File name: images47.jpg\nInvalid picture type that cv2 is unable to handle.\n File name: images48.jpg\nInvalid picture type that cv2 is unable to handle.\n File name: images49.jpg\nInvalid picture type that cv2 is unable to handle.\n File name: images5.jpg\nInvalid picture type that cv2 is unable to handle.\n File name: images50.jpg\nInvalid picture type that cv2 is unable to handle.\n File name: images51.jpg\nInvalid picture type that cv2 is unable to handle.\n File name: images52.jpg\nInvalid picture type that cv2 is unable to handle.\n File name: images53.jpg\nInvalid picture type that cv2 is unable to handle.\n File name: images54.jpg\nInvalid picture type that cv2 is unable to handle.\n File name: images55.jpg\nInvalid picture type that cv2 is unable to handle.\n File name: images56.jpg\nInvalid picture type that cv2 is unable to handle.\n File name: images57.jpg\nInvalid picture type that cv2 is unable to handle.\n File name: images58.jpg\nInvalid picture type that cv2 is unable to handle.\n File name: images59.jpg\nInvalid picture type that cv2 is unable to handle.\n File name: images6.jpg\nInvalid picture type that cv2 is unable to handle.\n File name: images60.jpg\nInvalid picture type that cv2 is unable to handle.\n File name: images61.jpg\nInvalid picture type that cv2 is unable to handle.\n File name: images62.jpg\nInvalid picture type that cv2 is unable to handle.\n File name: images63.jpg\nInvalid picture type that cv2 is unable to handle.\n File name: images64.jpg\nInvalid picture type that cv2 is unable to handle.\n File name: images65.jpg\nInvalid picture type that cv2 is unable to handle.\n File name: images66.jpg\nInvalid picture type that cv2 is unable to handle.\n File name: images67.jpg\nInvalid picture type that cv2 is unable to handle.\n File name: images68.jpg\nInvalid picture type that cv2 is unable to handle.\n File name: images69.jpg\nInvalid picture type that cv2 is unable to handle.\n File name: images7.jpg\nInvalid picture type that cv2 is unable to handle.\n File name: images70.jpg\nInvalid picture type that cv2 is unable to handle.\n File name: images71.jpg\nInvalid picture type that cv2 is unable to handle.\n File name: images72.jpg\nInvalid picture type that cv2 is unable to handle.\n File name: images73.jpg\nInvalid picture type that cv2 is unable to handle.\n File name: images74.jpg\nInvalid picture type that cv2 is unable to handle.\n File name: images75.jpg\nInvalid picture type that cv2 is unable to handle.\n File name: images76.jpg\nInvalid picture type that cv2 is unable to handle.\n File name: images77.jpg\nInvalid picture type that cv2 is unable to handle.\n File name: images78.jpg\nInvalid picture type that cv2 is unable to handle.\n File name: images79.jpg\nInvalid picture type that cv2 is unable to handle.\n File name: images8.jpg\nInvalid picture type that cv2 is unable to handle.\n File name: images80.jpg\nInvalid picture type that cv2 is unable to handle.\n File name: images81.jpg\nInvalid picture type that cv2 is unable to handle.\n File name: images82.jpg\nInvalid picture type that cv2 is unable to handle.\n File name: images83.jpg\nInvalid picture type that cv2 is unable to handle.\n File name: images84.jpg\nInvalid picture type that cv2 is unable to handle.\n File name: images85.jpg\nInvalid picture type that cv2 is unable to handle.\n File name: images86.jpg\nInvalid picture type that cv2 is unable to handle.\n File name: images87.jpg\nInvalid picture type that cv2 is unable to handle.\n File name: images88.jpg\nInvalid picture type that cv2 is unable to handle.\n File name: images89.jpg\nInvalid picture type that cv2 is unable to handle.\n File name: images9.jpg\nInvalid picture type that cv2 is unable to handle.\n File name: images90.jpg\nInvalid picture type that cv2 is unable to handle.\n File name: images91.jpg\nInvalid picture type that cv2 is unable to handle.\n File name: images92.jpg\nInvalid picture type that cv2 is unable to handle.\n File name: images93.jpg\nInvalid picture type that cv2 is unable to handle.\n File name: images94.jpg\nInvalid picture type that cv2 is unable to handle.\n File name: images95.jpg\nInvalid picture type that cv2 is unable to handle.\n File name: images96.jpg\nInvalid picture type that cv2 is unable to handle.\n File name: images97.jpg\nInvalid picture type that cv2 is unable to handle.\n File name: images98.jpg\nInvalid picture type that cv2 is unable to handle.\n File name: images99.jpg\nInvalid picture type that cv2 is unable to handle.\n File name: imgbin-red-maple-maple-leaf-sugar-maple-japanese-maple-red-maple-leaf-canada-red-maple-leaf-illustration-2wk4MTtz6ix36iZrerzGgaYV8.jpg\nInvalid picture type that cv2 is unable to handle.\n File name: kisspng-maple-leaf-red-maple-sugar-maple-green-5b2169613cdec0.8828483915289163212493.jpg\nInvalid picture type that cv2 is unable to handle.\n File name: leaf-sugar-maple-pastel.jpg\nInvalid picture type that cv2 is unable to handle.\n File name: Leaves20and20Fruit-20Photo20Taken20by20Michael20Clayton.jpg\nInvalid picture type that cv2 is unable to handle.\n File name: leaves_spr07_600_465_80_s.jpg\nInvalid picture type that cv2 is unable to handle.\n File name: maple-leaf-sugar-maple-silver-maple-tree-png-favpng-rZwbQy4SXNEP7n8TdqpRnqFni.jpg\nInvalid picture type that cv2 is unable to handle.\n File name: maple-leaf-sugar-maple-tree-png-favpng-KzLRhHiX1AVcSEQjwujTwcpzE.jpg\nInvalid picture type that cv2 is unable to handle.\n File name: maple-leaf-tattoo-sugar-maple-drawing-leaf.jpg\nInvalid picture type that cv2 is unable to handle.\n File name: maple-leaf-transparent-21.png\nInvalid picture type that cv2 is unable to handle.\n File name: maple-leaves.jpg\nInvalid picture type that cv2 is unable to handle.\n File name: Maple20Petiole20Borer20200620220REPROCESSED.jpg\nInvalid picture type that cv2 is unable to handle.\n File name: maxresdefault.jpg\nInvalid picture type that cv2 is unable to handle.\n File name: Norway-and-sugar-maple-leaves.jpg\nInvalid picture type that cv2 is unable to handle.\n File name: photo_camera_grey600_24dp.png\nInvalid picture type that cv2 is unable to handle.\n File name: rawImage.jpg\nInvalid picture type that cv2 is unable to handle.\n File name: Real-Sugar-Maple-Leaf-Brooch-In-Iridescent-Copper-back_2000x.jpg\nInvalid picture type that cv2 is unable to handle.\n File name: red-sugar-maple-leaf-against-260nw-2926758.jpg\nInvalid picture type that cv2 is unable to handle.\n File name: red-sugar-maple-leaf-against-white-stock-photography__u10067465.jpg\nInvalid picture type that cv2 is unable to handle.\n File name: red-sugar-maple-leaf-on-white-background-michael-russell.jpg\nInvalid picture type that cv2 is unable to handle.\n File name: s051107_b.jpg\nInvalid picture type that cv2 is unable to handle.\n File name: s070407_b.jpg\nInvalid picture type that cv2 is unable to handle.\n File name: silver-and-sugar-maple-leaves-russell-shively.jpg\nInvalid picture type that cv2 is unable to handle.\n File name: sugar-maple-acer-saccharum-hard-maple-rock-maple-sap-syrup-ftimg-712x1024.jpg\nInvalid picture type that cv2 is unable to handle.\n File name: sugar-maple-image-2.jpg\nInvalid picture type that cv2 is unable to handle.\n File name: sugar-maple-leaf-a-symbol-of-canada-on-a-rock-in-the-fall-in-rouge-B5MK3N.jpg\nInvalid picture type that cv2 is unable to handle.\n File name: sugar-maple-leaf-canada.jpg\nInvalid picture type that cv2 is unable to handle.\n File name: sugar-maple-leaf-ii-photopoint-art.jpg\nInvalid picture type that cv2 is unable to handle.\n File name: sugar-maple-leaf-iv-photopoint-art.jpg\nInvalid picture type that cv2 is unable to handle.\n File name: sugar-maple-leaf-underside.jpg\nInvalid picture type that cv2 is unable to handle.\n File name: sugar-maple-leaf.jpg\nInvalid picture type that cv2 is unable to handle.\n File name: sugar-maple-leaves-1.jpg\nInvalid picture type that cv2 is unable to handle.\n File name: sugar-maple-leaves-2.jpg\nInvalid picture type that cv2 is unable to handle.\n File name: sugar-maple-leaves-20.jpg\nInvalid picture type that cv2 is unable to handle.\n File name: sugar-maple-leaves-acer-saccharum-6128368.jpg\nInvalid picture type that cv2 is unable to handle.\n File name: sugar-maple-leaves-fall-41141.jpg\nInvalid picture type that cv2 is unable to handle.\n File name: sugar-maple-silver-maple-maple-leaf-red-maple-png-favpng-BSaWwZHKtBbYaTU2b4Z9UDYTR.jpg\nInvalid picture type that cv2 is unable to handle.\n File name: Sugar-Maple_1024x1024.jpg\nInvalid picture type that cv2 is unable to handle.\n File name: SUGARMAPLE-GOLD-6_grande.jpg\nInvalid picture type that cv2 is unable to handle.\n File name: sugarmaple1.gif\nInvalid picture type that cv2 is unable to handle.\n File name: SugarMapleLeafgreen.jpg\nInvalid picture type that cv2 is unable to handle.\n File name: Sugar_Maple_Acer_saccharum_saccharum.jpg\nInvalid picture type that cv2 is unable to handle.\n File name: the-norway-maple-leaf-Image.jpg\nInvalid picture type that cv2 is unable to handle.\n File name: thumb_sugar-maple-leaf.jpg\nInvalid picture type that cv2 is unable to handle.\n File name: tree-sugar-maple-leaf.jpg\nInvalid picture type that cv2 is unable to handle.\n File name: Trees-of-the-Adirondacks-Sugar-Maple-Acer-saccharum-Heaven-Hill-Trails-12-September-2018-71.jpg\nInvalid picture type that cv2 is unable to handle.\n File name: v4-460px-Identify-Sugar-Maple-Trees-Step-2-Version-4.jpg\n"
     ]
    }
   ],
   "source": [
    "resize_and_store_images(dest_path=dest_path, targ_path=targ_path, img_size=image_size)"
   ]
  }
 ]
}