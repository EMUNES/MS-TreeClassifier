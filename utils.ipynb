{
 "metadata": {
  "language_info": {
   "codemirror_mode": {
    "name": "ipython",
    "version": 3
   },
   "file_extension": ".py",
   "mimetype": "text/x-python",
   "name": "python",
   "nbconvert_exporter": "python",
   "pygments_lexer": "ipython3",
   "version": "3.8.5-final"
  },
  "orig_nbformat": 2,
  "kernelspec": {
   "name": "Python 3.8.5 64-bit ('tlc': conda)",
   "display_name": "Python 3.8.5 64-bit ('tlc': conda)",
   "metadata": {
    "interpreter": {
     "hash": "7c33d18c879b8c16ea1940d8472bc6cf82c89fa81050fa6bd15d10c212b5b695"
    }
   }
  }
 },
 "nbformat": 4,
 "nbformat_minor": 2,
 "cells": [
  {
   "source": [
    "# Util code snippets\n",
    "\n",
    "neccessary code snippets to help with the tree classifier"
   ],
   "cell_type": "markdown",
   "metadata": {}
  },
  {
   "source": [
    "# run this cell before running any other function cells\n",
    "import numpy as np\n",
    "import pandas as pd\n",
    "import matplotlib.pyplot as plt\n",
    "%matplotlib inline\n",
    "\n",
    "import cv2"
   ],
   "cell_type": "code",
   "metadata": {},
   "execution_count": 1,
   "outputs": []
  },
  {
   "source": [
    "## image resize\n",
    "Resize image to ideal size like 224x224, 384x384 ...etc\n",
    "\n",
    "*Each picture should be named by their parent folder.* "
   ],
   "cell_type": "markdown",
   "metadata": {}
  },
  {
   "cell_type": "code",
   "execution_count": 2,
   "metadata": {},
   "outputs": [],
   "source": [
    "image_size = 224 # change this line to alter image size\n",
    "\n",
    "targ_folder_name = 'Jamun' # target folder name, also the kind of the tree of those images\n",
    "dest_folder_name = 'Jamun' # destination folder name, also the kind of the tree of those images"
   ]
  },
  {
   "cell_type": "code",
   "execution_count": 3,
   "metadata": {},
   "outputs": [],
   "source": [
    "targ_path = f'./src/{targ_folder_name}/' # the path of the original images under src folder\n",
    "dest_path = f'./data/train/{dest_folder_name}/'  # the path of destination path under data folder"
   ]
  },
  {
   "cell_type": "code",
   "execution_count": 4,
   "metadata": {},
   "outputs": [],
   "source": [
    "if not os.path.exists(dest_path): os.mkdir(dest_path)"
   ]
  },
  {
   "cell_type": "code",
   "execution_count": 5,
   "metadata": {},
   "outputs": [],
   "source": [
    "def _resize_image_from_path(image_path, dim):\n",
    "    image = cv2.imread(image_path)\n",
    "    #image = cv2.cvtColor(image, cv2.COLOR_BGR2RGB)\n",
    "    image = cv2.resize(image, (dim, dim), interpolation=cv2.INTER_AREA)\n",
    "    return image"
   ]
  },
  {
   "cell_type": "code",
   "execution_count": 6,
   "metadata": {},
   "outputs": [],
   "source": [
    "def resize_and_store_images(dest_path, targ_path, img_size):\n",
    "\n",
    "    for image_name in os.listdir(targ_path):\n",
    "        try:\n",
    "            image = _resize_image_from_path(targ_path+image_name, image_size)\n",
    "            print(f\"Writing resized image to: {dest_path+image_name}\")\n",
    "            cv2.imwrite(dest_path+image_name, image)\n",
    "        except:\n",
    "            print(f'Invalid picture type that cv2 is unable to handle.\\n File name: {image_name}')\n",
    "            continue"
   ]
  },
  {
   "cell_type": "code",
   "execution_count": 7,
   "metadata": {
    "tags": [
     "outputPrepend"
    ]
   },
   "outputs": [
    {
     "output_type": "stream",
     "name": "stdout",
     "text": "riting resized image to: ./data/train/Jamun/0017_0007.JPG\nWriting resized image to: ./data/train/Jamun/0017_0008.JPG\nWriting resized image to: ./data/train/Jamun/0017_0009.JPG\nWriting resized image to: ./data/train/Jamun/0017_0010.JPG\nWriting resized image to: ./data/train/Jamun/0017_0011.JPG\nWriting resized image to: ./data/train/Jamun/0017_0012.JPG\nWriting resized image to: ./data/train/Jamun/0017_0013.JPG\nWriting resized image to: ./data/train/Jamun/0017_0014.JPG\nWriting resized image to: ./data/train/Jamun/0017_0015.JPG\nWriting resized image to: ./data/train/Jamun/0017_0016.JPG\nWriting resized image to: ./data/train/Jamun/0017_0017.JPG\nWriting resized image to: ./data/train/Jamun/0017_0018.JPG\nWriting resized image to: ./data/train/Jamun/0017_0019.JPG\nWriting resized image to: ./data/train/Jamun/0017_0020.JPG\nWriting resized image to: ./data/train/Jamun/0017_0021.JPG\nWriting resized image to: ./data/train/Jamun/0017_0022.JPG\nWriting resized image to: ./data/train/Jamun/0017_0023.JPG\nWriting resized image to: ./data/train/Jamun/0017_0024.JPG\nWriting resized image to: ./data/train/Jamun/0017_0025.JPG\nWriting resized image to: ./data/train/Jamun/0017_0026.JPG\nWriting resized image to: ./data/train/Jamun/0017_0027.JPG\nWriting resized image to: ./data/train/Jamun/0017_0028.JPG\nWriting resized image to: ./data/train/Jamun/0017_0029.JPG\nWriting resized image to: ./data/train/Jamun/0017_0030.JPG\nWriting resized image to: ./data/train/Jamun/0017_0031.JPG\nWriting resized image to: ./data/train/Jamun/0017_0032.JPG\nWriting resized image to: ./data/train/Jamun/0017_0033.JPG\nWriting resized image to: ./data/train/Jamun/0017_0034.JPG\nWriting resized image to: ./data/train/Jamun/0017_0035.JPG\nWriting resized image to: ./data/train/Jamun/0017_0036.JPG\nWriting resized image to: ./data/train/Jamun/0017_0037.JPG\nWriting resized image to: ./data/train/Jamun/0017_0038.JPG\nWriting resized image to: ./data/train/Jamun/0017_0039.JPG\nWriting resized image to: ./data/train/Jamun/0017_0040.JPG\nWriting resized image to: ./data/train/Jamun/0017_0041.JPG\nWriting resized image to: ./data/train/Jamun/0017_0042.JPG\nWriting resized image to: ./data/train/Jamun/0017_0043.JPG\nWriting resized image to: ./data/train/Jamun/0017_0044.JPG\nWriting resized image to: ./data/train/Jamun/0017_0045.JPG\nWriting resized image to: ./data/train/Jamun/0017_0046.JPG\nWriting resized image to: ./data/train/Jamun/0017_0047.JPG\nWriting resized image to: ./data/train/Jamun/0017_0048.JPG\nWriting resized image to: ./data/train/Jamun/0017_0049.JPG\nWriting resized image to: ./data/train/Jamun/0017_0050.JPG\nWriting resized image to: ./data/train/Jamun/0017_0051.JPG\nWriting resized image to: ./data/train/Jamun/0017_0052.JPG\nWriting resized image to: ./data/train/Jamun/0017_0053.JPG\nWriting resized image to: ./data/train/Jamun/0017_0054.JPG\nWriting resized image to: ./data/train/Jamun/0017_0055.JPG\nWriting resized image to: ./data/train/Jamun/0017_0056.JPG\nWriting resized image to: ./data/train/Jamun/0017_0057.JPG\nWriting resized image to: ./data/train/Jamun/0017_0058.JPG\nWriting resized image to: ./data/train/Jamun/0017_0059.JPG\nWriting resized image to: ./data/train/Jamun/0017_0060.JPG\nWriting resized image to: ./data/train/Jamun/0017_0061.JPG\nWriting resized image to: ./data/train/Jamun/0017_0062.JPG\nWriting resized image to: ./data/train/Jamun/0017_0063.JPG\nWriting resized image to: ./data/train/Jamun/0017_0064.JPG\nWriting resized image to: ./data/train/Jamun/0017_0065.JPG\nWriting resized image to: ./data/train/Jamun/0017_0066.JPG\nWriting resized image to: ./data/train/Jamun/0017_0067.JPG\nWriting resized image to: ./data/train/Jamun/0017_0068.JPG\nWriting resized image to: ./data/train/Jamun/0017_0069.JPG\nWriting resized image to: ./data/train/Jamun/0017_0070.JPG\nWriting resized image to: ./data/train/Jamun/0017_0071.JPG\nWriting resized image to: ./data/train/Jamun/0017_0072.JPG\nWriting resized image to: ./data/train/Jamun/0017_0073.JPG\nWriting resized image to: ./data/train/Jamun/0017_0074.JPG\nWriting resized image to: ./data/train/Jamun/0017_0075.JPG\nWriting resized image to: ./data/train/Jamun/0017_0076.JPG\nWriting resized image to: ./data/train/Jamun/0017_0077.JPG\nWriting resized image to: ./data/train/Jamun/0017_0078.JPG\nWriting resized image to: ./data/train/Jamun/0017_0079.JPG\nWriting resized image to: ./data/train/Jamun/0017_0080.JPG\nWriting resized image to: ./data/train/Jamun/0017_0081.JPG\nWriting resized image to: ./data/train/Jamun/0017_0082.JPG\nWriting resized image to: ./data/train/Jamun/0017_0083.JPG\nWriting resized image to: ./data/train/Jamun/0017_0084.JPG\nWriting resized image to: ./data/train/Jamun/0017_0085.JPG\nWriting resized image to: ./data/train/Jamun/0017_0086.JPG\nWriting resized image to: ./data/train/Jamun/0017_0087.JPG\nWriting resized image to: ./data/train/Jamun/0017_0088.JPG\nWriting resized image to: ./data/train/Jamun/0017_0089.JPG\nWriting resized image to: ./data/train/Jamun/0017_0090.JPG\nWriting resized image to: ./data/train/Jamun/0017_0091.JPG\nWriting resized image to: ./data/train/Jamun/0017_0092.JPG\nWriting resized image to: ./data/train/Jamun/0017_0093.JPG\nWriting resized image to: ./data/train/Jamun/0017_0094.JPG\nWriting resized image to: ./data/train/Jamun/0017_0095.JPG\nWriting resized image to: ./data/train/Jamun/0017_0096.JPG\nWriting resized image to: ./data/train/Jamun/0017_0097.JPG\nWriting resized image to: ./data/train/Jamun/0017_0098.JPG\nWriting resized image to: ./data/train/Jamun/0017_0099.JPG\nWriting resized image to: ./data/train/Jamun/0017_0100.JPG\nWriting resized image to: ./data/train/Jamun/0017_0101.JPG\nWriting resized image to: ./data/train/Jamun/0017_0102.JPG\nWriting resized image to: ./data/train/Jamun/0017_0103.JPG\nWriting resized image to: ./data/train/Jamun/0017_0104.JPG\nWriting resized image to: ./data/train/Jamun/0017_0105.JPG\nWriting resized image to: ./data/train/Jamun/0017_0106.JPG\nWriting resized image to: ./data/train/Jamun/0017_0107.JPG\nWriting resized image to: ./data/train/Jamun/0017_0108.JPG\nWriting resized image to: ./data/train/Jamun/0017_0109.JPG\nWriting resized image to: ./data/train/Jamun/0017_0110.JPG\nWriting resized image to: ./data/train/Jamun/0017_0111.JPG\nWriting resized image to: ./data/train/Jamun/0017_0112.JPG\nWriting resized image to: ./data/train/Jamun/0017_0113.JPG\nWriting resized image to: ./data/train/Jamun/0017_0114.JPG\nWriting resized image to: ./data/train/Jamun/0017_0115.JPG\nWriting resized image to: ./data/train/Jamun/0017_0116.JPG\nWriting resized image to: ./data/train/Jamun/0017_0117.JPG\nWriting resized image to: ./data/train/Jamun/0017_0118.JPG\nWriting resized image to: ./data/train/Jamun/0017_0119.JPG\nWriting resized image to: ./data/train/Jamun/0017_0120.JPG\nWriting resized image to: ./data/train/Jamun/0017_0121.JPG\nWriting resized image to: ./data/train/Jamun/0017_0122.JPG\nWriting resized image to: ./data/train/Jamun/0017_0123.JPG\nWriting resized image to: ./data/train/Jamun/0017_0124.JPG\nWriting resized image to: ./data/train/Jamun/0017_0125.JPG\nWriting resized image to: ./data/train/Jamun/0017_0126.JPG\nWriting resized image to: ./data/train/Jamun/0017_0127.JPG\nWriting resized image to: ./data/train/Jamun/0017_0128.JPG\nWriting resized image to: ./data/train/Jamun/0017_0129.JPG\nWriting resized image to: ./data/train/Jamun/0017_0130.JPG\nWriting resized image to: ./data/train/Jamun/0017_0131.JPG\nWriting resized image to: ./data/train/Jamun/0017_0132.JPG\nWriting resized image to: ./data/train/Jamun/0017_0133.JPG\nWriting resized image to: ./data/train/Jamun/0017_0134.JPG\nWriting resized image to: ./data/train/Jamun/0017_0135.JPG\nWriting resized image to: ./data/train/Jamun/0017_0136.JPG\nWriting resized image to: ./data/train/Jamun/0017_0137.JPG\nWriting resized image to: ./data/train/Jamun/0017_0138.JPG\nWriting resized image to: ./data/train/Jamun/0017_0139.JPG\nWriting resized image to: ./data/train/Jamun/0017_0140.JPG\nWriting resized image to: ./data/train/Jamun/0017_0141.JPG\nWriting resized image to: ./data/train/Jamun/0017_0142.JPG\nWriting resized image to: ./data/train/Jamun/0017_0143.JPG\nWriting resized image to: ./data/train/Jamun/0017_0144.JPG\nWriting resized image to: ./data/train/Jamun/0017_0145.JPG\nWriting resized image to: ./data/train/Jamun/0017_0146.JPG\nWriting resized image to: ./data/train/Jamun/0017_0147.JPG\nWriting resized image to: ./data/train/Jamun/0017_0148.JPG\nWriting resized image to: ./data/train/Jamun/0017_0149.JPG\nWriting resized image to: ./data/train/Jamun/0017_0150.JPG\nWriting resized image to: ./data/train/Jamun/0017_0151.JPG\nWriting resized image to: ./data/train/Jamun/0017_0152.JPG\nWriting resized image to: ./data/train/Jamun/0017_0153.JPG\nWriting resized image to: ./data/train/Jamun/0017_0154.JPG\nWriting resized image to: ./data/train/Jamun/0017_0155.JPG\nWriting resized image to: ./data/train/Jamun/0017_0156.JPG\nWriting resized image to: ./data/train/Jamun/0017_0157.JPG\nWriting resized image to: ./data/train/Jamun/0017_0158.JPG\nWriting resized image to: ./data/train/Jamun/0017_0159.JPG\nWriting resized image to: ./data/train/Jamun/0017_0160.JPG\nWriting resized image to: ./data/train/Jamun/0017_0161.JPG\nWriting resized image to: ./data/train/Jamun/0017_0162.JPG\nWriting resized image to: ./data/train/Jamun/0017_0163.JPG\nWriting resized image to: ./data/train/Jamun/0017_0164.JPG\nWriting resized image to: ./data/train/Jamun/0017_0165.JPG\nWriting resized image to: ./data/train/Jamun/0017_0166.JPG\nWriting resized image to: ./data/train/Jamun/0017_0167.JPG\nWriting resized image to: ./data/train/Jamun/0017_0168.JPG\nWriting resized image to: ./data/train/Jamun/0017_0169.JPG\nWriting resized image to: ./data/train/Jamun/0017_0170.JPG\nWriting resized image to: ./data/train/Jamun/0017_0171.JPG\nWriting resized image to: ./data/train/Jamun/0017_0172.JPG\nWriting resized image to: ./data/train/Jamun/0017_0173.JPG\nWriting resized image to: ./data/train/Jamun/0017_0174.JPG\nWriting resized image to: ./data/train/Jamun/0017_0175.JPG\nWriting resized image to: ./data/train/Jamun/0017_0176.JPG\nWriting resized image to: ./data/train/Jamun/0017_0177.JPG\nWriting resized image to: ./data/train/Jamun/0017_0178.JPG\nWriting resized image to: ./data/train/Jamun/0017_0179.JPG\nWriting resized image to: ./data/train/Jamun/0017_0180.JPG\nWriting resized image to: ./data/train/Jamun/0017_0181.JPG\nWriting resized image to: ./data/train/Jamun/0017_0182.JPG\nWriting resized image to: ./data/train/Jamun/0017_0183.JPG\nWriting resized image to: ./data/train/Jamun/0017_0184.JPG\nWriting resized image to: ./data/train/Jamun/0017_0185.JPG\nWriting resized image to: ./data/train/Jamun/0017_0186.JPG\nWriting resized image to: ./data/train/Jamun/0017_0187.JPG\nWriting resized image to: ./data/train/Jamun/0017_0188.JPG\nWriting resized image to: ./data/train/Jamun/0017_0189.JPG\nWriting resized image to: ./data/train/Jamun/0017_0190.JPG\nWriting resized image to: ./data/train/Jamun/0017_0191.JPG\nWriting resized image to: ./data/train/Jamun/0017_0192.JPG\nWriting resized image to: ./data/train/Jamun/0017_0193.JPG\nWriting resized image to: ./data/train/Jamun/0017_0194.JPG\nWriting resized image to: ./data/train/Jamun/0017_0195.JPG\nWriting resized image to: ./data/train/Jamun/0017_0196.JPG\nWriting resized image to: ./data/train/Jamun/0017_0197.JPG\nWriting resized image to: ./data/train/Jamun/0017_0198.JPG\nWriting resized image to: ./data/train/Jamun/0017_0199.JPG\nWriting resized image to: ./data/train/Jamun/0017_0200.JPG\nWriting resized image to: ./data/train/Jamun/0017_0201.JPG\nWriting resized image to: ./data/train/Jamun/0017_0202.JPG\nWriting resized image to: ./data/train/Jamun/0017_0203.JPG\nWriting resized image to: ./data/train/Jamun/0017_0204.JPG\nWriting resized image to: ./data/train/Jamun/0017_0205.JPG\nWriting resized image to: ./data/train/Jamun/0017_0206.JPG\nWriting resized image to: ./data/train/Jamun/0017_0207.JPG\nWriting resized image to: ./data/train/Jamun/0017_0208.JPG\nWriting resized image to: ./data/train/Jamun/0017_0209.JPG\nWriting resized image to: ./data/train/Jamun/0017_0210.JPG\nWriting resized image to: ./data/train/Jamun/0017_0211.JPG\nWriting resized image to: ./data/train/Jamun/0017_0212.JPG\nWriting resized image to: ./data/train/Jamun/0017_0213.JPG\nWriting resized image to: ./data/train/Jamun/0017_0214.JPG\nWriting resized image to: ./data/train/Jamun/0017_0215.JPG\nWriting resized image to: ./data/train/Jamun/0017_0216.JPG\nWriting resized image to: ./data/train/Jamun/0017_0217.JPG\nWriting resized image to: ./data/train/Jamun/0017_0218.JPG\nWriting resized image to: ./data/train/Jamun/0017_0219.JPG\nWriting resized image to: ./data/train/Jamun/0017_0220.JPG\nWriting resized image to: ./data/train/Jamun/0017_0221.JPG\nWriting resized image to: ./data/train/Jamun/0017_0222.JPG\nWriting resized image to: ./data/train/Jamun/0017_0223.JPG\nWriting resized image to: ./data/train/Jamun/0017_0224.JPG\nWriting resized image to: ./data/train/Jamun/0017_0225.JPG\nWriting resized image to: ./data/train/Jamun/0017_0226.JPG\nWriting resized image to: ./data/train/Jamun/0017_0227.JPG\nWriting resized image to: ./data/train/Jamun/0017_0228.JPG\nWriting resized image to: ./data/train/Jamun/0017_0229.JPG\nWriting resized image to: ./data/train/Jamun/0017_0230.JPG\nWriting resized image to: ./data/train/Jamun/0017_0231.JPG\nWriting resized image to: ./data/train/Jamun/0017_0232.JPG\nWriting resized image to: ./data/train/Jamun/0017_0233.JPG\nWriting resized image to: ./data/train/Jamun/0017_0234.JPG\nWriting resized image to: ./data/train/Jamun/0017_0235.JPG\nWriting resized image to: ./data/train/Jamun/0017_0236.JPG\nWriting resized image to: ./data/train/Jamun/0017_0237.JPG\nWriting resized image to: ./data/train/Jamun/0017_0238.JPG\nWriting resized image to: ./data/train/Jamun/0017_0239.JPG\nWriting resized image to: ./data/train/Jamun/0017_0240.JPG\nWriting resized image to: ./data/train/Jamun/0017_0241.JPG\nWriting resized image to: ./data/train/Jamun/0017_0242.JPG\nWriting resized image to: ./data/train/Jamun/0017_0243.JPG\nWriting resized image to: ./data/train/Jamun/0017_0244.JPG\nWriting resized image to: ./data/train/Jamun/0017_0245.JPG\nWriting resized image to: ./data/train/Jamun/0017_0246.JPG\nWriting resized image to: ./data/train/Jamun/0017_0247.JPG\nWriting resized image to: ./data/train/Jamun/0017_0248.JPG\nWriting resized image to: ./data/train/Jamun/0017_0249.JPG\nWriting resized image to: ./data/train/Jamun/0017_0250.JPG\nWriting resized image to: ./data/train/Jamun/0017_0251.JPG\nWriting resized image to: ./data/train/Jamun/0017_0252.JPG\nWriting resized image to: ./data/train/Jamun/0017_0253.JPG\nWriting resized image to: ./data/train/Jamun/0017_0254.JPG\nWriting resized image to: ./data/train/Jamun/0017_0255.JPG\nWriting resized image to: ./data/train/Jamun/0017_0256.JPG\nWriting resized image to: ./data/train/Jamun/0017_0257.JPG\nWriting resized image to: ./data/train/Jamun/0017_0258.JPG\nWriting resized image to: ./data/train/Jamun/0017_0259.JPG\nWriting resized image to: ./data/train/Jamun/0017_0260.JPG\nWriting resized image to: ./data/train/Jamun/0017_0261.JPG\nWriting resized image to: ./data/train/Jamun/0017_0262.JPG\nWriting resized image to: ./data/train/Jamun/0017_0263.JPG\nWriting resized image to: ./data/train/Jamun/0017_0264.JPG\nWriting resized image to: ./data/train/Jamun/0017_0265.JPG\nWriting resized image to: ./data/train/Jamun/0017_0266.JPG\nWriting resized image to: ./data/train/Jamun/0017_0267.JPG\nWriting resized image to: ./data/train/Jamun/0017_0268.JPG\nWriting resized image to: ./data/train/Jamun/0017_0269.JPG\nWriting resized image to: ./data/train/Jamun/0017_0270.JPG\nWriting resized image to: ./data/train/Jamun/0017_0271.JPG\nWriting resized image to: ./data/train/Jamun/0017_0272.JPG\nWriting resized image to: ./data/train/Jamun/0017_0273.JPG\nWriting resized image to: ./data/train/Jamun/0017_0274.JPG\nWriting resized image to: ./data/train/Jamun/0017_0275.JPG\nWriting resized image to: ./data/train/Jamun/0017_0276.JPG\nWriting resized image to: ./data/train/Jamun/0017_0277.JPG\nWriting resized image to: ./data/train/Jamun/0017_0278.JPG\nWriting resized image to: ./data/train/Jamun/0017_0279.JPG\nWriting resized image to: ./data/train/Jamun/0017_0280.JPG\nWriting resized image to: ./data/train/Jamun/0017_0281.JPG\nWriting resized image to: ./data/train/Jamun/0017_0282.JPG\nWriting resized image to: ./data/train/Jamun/0017_0283.JPG\nWriting resized image to: ./data/train/Jamun/0017_0284.JPG\nWriting resized image to: ./data/train/Jamun/0017_0285.JPG\nWriting resized image to: ./data/train/Jamun/0017_0286.JPG\nWriting resized image to: ./data/train/Jamun/0017_0287.JPG\nWriting resized image to: ./data/train/Jamun/0017_0288.JPG\nWriting resized image to: ./data/train/Jamun/0017_0289.JPG\nWriting resized image to: ./data/train/Jamun/0017_0290.JPG\nWriting resized image to: ./data/train/Jamun/0017_0291.JPG\nWriting resized image to: ./data/train/Jamun/0017_0292.JPG\nWriting resized image to: ./data/train/Jamun/0017_0293.JPG\nWriting resized image to: ./data/train/Jamun/0017_0294.JPG\nWriting resized image to: ./data/train/Jamun/0017_0295.JPG\nWriting resized image to: ./data/train/Jamun/0017_0296.JPG\nWriting resized image to: ./data/train/Jamun/0017_0297.JPG\nWriting resized image to: ./data/train/Jamun/0017_0298.JPG\nWriting resized image to: ./data/train/Jamun/0017_0299.JPG\nWriting resized image to: ./data/train/Jamun/0017_0300.JPG\nWriting resized image to: ./data/train/Jamun/0017_0301.JPG\nWriting resized image to: ./data/train/Jamun/0017_0302.JPG\nWriting resized image to: ./data/train/Jamun/0017_0303.JPG\nWriting resized image to: ./data/train/Jamun/0017_0304.JPG\nWriting resized image to: ./data/train/Jamun/0017_0305.JPG\nWriting resized image to: ./data/train/Jamun/0017_0306.JPG\nWriting resized image to: ./data/train/Jamun/0017_0307.JPG\nWriting resized image to: ./data/train/Jamun/0017_0308.JPG\nWriting resized image to: ./data/train/Jamun/0017_0309.JPG\nWriting resized image to: ./data/train/Jamun/0017_0310.JPG\nWriting resized image to: ./data/train/Jamun/0017_0311.JPG\nWriting resized image to: ./data/train/Jamun/0017_0312.JPG\nWriting resized image to: ./data/train/Jamun/0017_0313.JPG\nWriting resized image to: ./data/train/Jamun/0017_0314.JPG\nWriting resized image to: ./data/train/Jamun/0017_0315.JPG\nWriting resized image to: ./data/train/Jamun/0017_0316.JPG\nWriting resized image to: ./data/train/Jamun/0017_0317.JPG\nWriting resized image to: ./data/train/Jamun/0017_0318.JPG\nWriting resized image to: ./data/train/Jamun/0017_0319.JPG\nWriting resized image to: ./data/train/Jamun/0017_0320.JPG\nWriting resized image to: ./data/train/Jamun/0017_0321.JPG\nWriting resized image to: ./data/train/Jamun/0017_0322.JPG\nWriting resized image to: ./data/train/Jamun/0017_0323.JPG\nWriting resized image to: ./data/train/Jamun/0017_0324.JPG\nWriting resized image to: ./data/train/Jamun/0017_0325.JPG\nWriting resized image to: ./data/train/Jamun/0017_0326.JPG\nWriting resized image to: ./data/train/Jamun/0017_0327.JPG\nWriting resized image to: ./data/train/Jamun/0017_0328.JPG\nWriting resized image to: ./data/train/Jamun/0017_0329.JPG\nWriting resized image to: ./data/train/Jamun/0017_0330.JPG\nWriting resized image to: ./data/train/Jamun/0017_0331.JPG\nWriting resized image to: ./data/train/Jamun/0017_0332.JPG\nWriting resized image to: ./data/train/Jamun/0017_0333.JPG\nWriting resized image to: ./data/train/Jamun/0017_0334.JPG\nWriting resized image to: ./data/train/Jamun/0017_0335.JPG\nWriting resized image to: ./data/train/Jamun/0017_0336.JPG\nWriting resized image to: ./data/train/Jamun/0017_0337.JPG\nWriting resized image to: ./data/train/Jamun/0017_0338.JPG\nWriting resized image to: ./data/train/Jamun/0017_0339.JPG\nWriting resized image to: ./data/train/Jamun/0017_0340.JPG\nWriting resized image to: ./data/train/Jamun/0017_0341.JPG\nWriting resized image to: ./data/train/Jamun/0017_0342.JPG\nWriting resized image to: ./data/train/Jamun/0017_0343.JPG\nWriting resized image to: ./data/train/Jamun/0017_0344.JPG\nWriting resized image to: ./data/train/Jamun/0017_0345.JPG\n"
    }
   ],
   "source": [
    "resize_and_store_images(dest_path=dest_path, targ_path=targ_path, img_size=image_size)"
   ]
  }
 ]
}